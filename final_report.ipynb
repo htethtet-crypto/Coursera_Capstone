{
 "cells": [
  {
   "cell_type": "markdown",
   "metadata": {},
   "source": [
    "<h1>Melbourne Housing Price and Neighbourhood Venues Analysis</h1>\n",
    "\n",
    "### Applied Data Science Project by IBM"
   ]
  },
  {
   "cell_type": "markdown",
   "metadata": {},
   "source": [
    "## Table of content\n",
    "\n",
    "* [Introduction: Business Problem](#introduction)\n",
    "* [Data](#data)\n",
    "* [Methodology](#methodology)\n",
    "* [Analysis](#analysis)\n",
    "* [Results and Discussion](#results)\n",
    "* [Conclusion](#conclusion)"
   ]
  },
  {
   "cell_type": "markdown",
   "metadata": {},
   "source": [
    "## Introduction: Business Problem <a name=\"introduction\"></a>\n"
   ]
  },
  {
   "cell_type": "markdown",
   "metadata": {},
   "source": [
    "Due to high cost of living, Melbourne housing can be a nightmare for most. Melbourne is currently experiencing a housing bubble (some experts say it may burst soon). A potential client aspiring to buy a suitable property would like to become knowledgeable about the ongoing pricing to make a conscious decision. Furthermore, he/she would like to consider several factors like proximity to schools, medical care, restuarants, other liesure amenities to accomodate needs.\n",
    "\n",
    "With Melbourne housing market data coupled with data science techniques, one can derive useful insights and information about current pricing in different suburbs of Melbourne while considering other factors of his/her choice. This would help to make an informed decision about owning a property in a suitable location in Melbourne."
   ]
  },
  {
   "cell_type": "markdown",
   "metadata": {},
   "source": [
    "## Data <a name=\"data\"></a>"
   ]
  },
  {
   "cell_type": "markdown",
   "metadata": {},
   "source": [
    "- __Mebourne Housing Dataset__ <br>\n",
    "This data was scraped from publicly available results posted every week from *Domain.com.au*. The dataset has been cleaned, and now it available for us folks (data analysts) to do some data analysis magic. <br>\n",
    "**Author:** Tony Pino <br>\n",
    "**License:** [Attribution-NonCommercial-ShareAlike 4.0 (CC BY-NC-SA 4.0)](https://creativecommons.org/licenses/by-nc-sa/4.0/) <br>\n",
    "**Description:** <br>\n",
    "Suburb: Suburb, Address: Address, Rooms: Number of rooms, Price: Price in Australian dollars, Method: S - property sold; SP - property sold prior; PI - property passed in; PN - sold prior not disclosed; SN - sold not disclosed; NB - no bid; VB - vendor bid; W - withdrawn prior to auction; SA - sold after auction; SS - sold after auction price not disclosed; N/A - price or highest bid not available, Type: br - bedroom(s); h - house,cottage,villa, semi,terrace; u - unit, duplex; t - townhouse; dev site - development site; o res - other residential, SellerG: Real Estate Agent, Date: Date sold, Distance: Distance from CBD in Kilometres, Regionname: General Region (West, North West, North, North east ...etc), Propertycount: Number of properties that exist in the suburb, Bedroom2 : Scraped # of Bedrooms (from different source), Bathroom: Number of Bathrooms, Car: Number of carspots, Landsize: Land Size in Metres, BuildingArea: Building Size in Metres, YearBuilt: Year the house was built, CouncilArea: Governing council for the area, Lattitude: Self explanitory, Longtitude: Self explanitory <br>\n",
    "**Duration:** January 2016 - October 2018 <br>\n",
    "**Link:** [Kaggle link](https://www.kaggle.com/anthonypino/melbourne-housing-market#Melbourne_housing_FULL.csv) <br><br>\n",
    "\n",
    "- __Foursquare Locatation Data__ <br>\n",
    "**Description:** To determine the various amenities in the proximity of a desired location, Foursquare location data is used. <br>\n",
    "**Link**: [Foursquare website](https://foursquare.com/) <br>\n"
   ]
  },
  {
   "cell_type": "markdown",
   "metadata": {},
   "source": [
    "<h2>3.&emsp;Methodology</h2>\n",
    "\n"
   ]
  },
  {
   "cell_type": "markdown",
   "metadata": {},
   "source": [
    "In this project I will be focusing on investigating the recent (from January 2016 to October 2018) housing market prices of residential properties in the city of Melbourne and to recommend buying at various potential locations\n",
    "based on price.\n",
    "\n",
    " In first step we will be cleaning, filtering and transforming the data obtained from the Melbourne Housing Market dataset which includes the transactions in the period from 2016 to 2018.\n",
    " \n",
    " In the second step we will do exploratory data analysis on various suburbs and streets.\n",
    "Unique \"street names\" in the city of Melbourne in each suburb where recent transactions for sale of property were done are filtered from the dataset.We will caculate the average price of property on each of those streets is determined by taking a mean on recent transactions of sale of property on respective streets.\n",
    "\n",
    "And the current average prices are compared and all recommendations for the locations are made by plotting them on map of Melbourne. The location popups are labelled with the respective street names and their average property price\n",
    " \n",
    " In the third step, we will coordinates locations i.e. latitude and longitudes of the streets are fetched from the Melbourne Housing Market dataset\n",
    "And we will build recommended locations determined based on average pricing are further fed into Foursquare API calls to discover various amenities in proximity to them. All reported venues are then tabulated, analysed thoroughly and presented.\n"
   ]
  },
  {
   "cell_type": "code",
   "execution_count": 5,
   "metadata": {},
   "outputs": [],
   "source": [
    "# This Python 3 environment comes with many helpful analytics libraries installed\n",
    "# It is defined by the kaggle/python docker image: https://github.com/kaggle/docker-python\n",
    "# For exa\n",
    "\n",
    "import numpy as np # linear algebra\n",
    "import pandas as pd # data processing, CSV file I/O (e.g. pd.read_csv)\n",
    "\n",
    "# Input data files are available in the \"../input/\" directory.\n",
    "# For example, running this (by clicking run or pressing Shift+Enter) will list all files under the input directory\n",
    "\n",
    "import os\n",
    "for dirname, _, filenames in os.walk('/kaggle/input'):\n",
    "    for filename in filenames:\n",
    "        print(os.path.join(dirname, filename))\n",
    "\n",
    "# Any results you write to the current directory are saved as output."
   ]
  },
  {
   "cell_type": "code",
   "execution_count": 6,
   "metadata": {},
   "outputs": [
    {
     "name": "stdout",
     "output_type": "stream",
     "text": [
      "libraries imported!\n"
     ]
    }
   ],
   "source": [
    "#import libraries neccessary\n",
    "import pandas as pd\n",
    "pd.set_option('display.max_columns', None)\n",
    "pd.set_option('display.max_rows', None)\n",
    "\n",
    "import numpy as pd\n",
    "from matplotlib import pyplot as plt  # plotting library\n",
    "%matplotlib inline\n",
    "\n",
    "import requests\n",
    "import folium\n",
    "from geopy import Nominatim\n",
    "\n",
    "print('libraries imported!')"
   ]
  },
  {
   "cell_type": "code",
   "execution_count": null,
   "metadata": {},
   "outputs": [],
   "source": [
    "# input variables - Housing budget from the client/user\n",
    "\n",
    "BUDGET = 0.3    # dummy value\n",
    "BUDGET = input(\"Please enter your housing budget (in Millions AU$): \")\n",
    "BUDGET = float(BUDGET)"
   ]
  },
  {
   "cell_type": "code",
   "execution_count": null,
   "metadata": {},
   "outputs": [],
   "source": [
    "# cleaning Melbourne Housing Market dataset\n",
    "\n",
    "\n",
    "filtered_columns = ['Suburb', 'Address', 'Rooms', 'Price', 'Date', 'Distance', 'Postcode', 'Bedroom2', 'Landsize', 'YearBuilt', 'CouncilArea', 'Lattitude', 'Longtitude']\n",
    "housing_data = pd.read_csv('/kaggle/input/melbourne-housing-market/Melbourne_housing_FULL.csv', usecols=filtered_columns, parse_dates=True)\n",
    "\n",
    "# renaming columns\n",
    "housing_data.rename(columns={'Bedroom2':'Bedrooms', 'Longtitude':'Longitude', 'Price':'Price(in$M)'}, inplace=True)\n",
    "\n",
    "#changing column types\n",
    "housing_data.drop([29483], inplace=True)  # Postcode is null for this entry\n",
    "housing_data.dropna(subset=['Lattitude', 'Longitude'], inplace=True) # Geolocations not available\n",
    "housing_data = housing_data.astype({'Date': 'datetime64', 'Postcode':'int64'})\n",
    "\n",
    "# dropping rows where Price is null\n",
    "housing_data.drop(housing_data[housing_data['Price(in$M)'].isnull()].index, inplace=True)\n",
    "housing_data = housing_data.reset_index(drop=True)\n",
    "\n",
    "# changing Price values per 1 Million dollors\n",
    "housing_data['Price(in$M)'] = housing_data['Price(in$M)'].apply(lambda price: price / 1000000)\n",
    "\n",
    "housing_data.head()"
   ]
  },
  {
   "cell_type": "markdown",
   "metadata": {},
   "source": [
    "## Analysis <a name=\"analysis\"></a>"
   ]
  },
  {
   "cell_type": "code",
   "execution_count": null,
   "metadata": {
    "scrolled": true
   },
   "outputs": [],
   "source": [
    "# analysing average housing prices for each suburb in Melbourne\n",
    "\n",
    "\n",
    "housing_price_average = housing_data.groupby('Suburb')['Price(in$M)'].mean()\n",
    "\n",
    "# top 10 most priced suburbs in melbourne\n",
    "top_housing_price_average = housing_price_average.sort_values(ascending=False).iloc[0:10]\n",
    "\n",
    "# plotting\n",
    "fig, ax = plt.subplots(figsize=(3, 3), dpi= 80)\n",
    "ax.bar(top_housing_price_average.index, top_housing_price_average, label='Price(in$M)')\n",
    "ax.tick_params('x', rotation=90)\n",
    "ax.set_xlabel('Suburbs')\n",
    "ax.set_ylabel('Price in Millions')\n",
    "plt.show()"
   ]
  },
  {
   "cell_type": "code",
   "execution_count": null,
   "metadata": {
    "scrolled": true
   },
   "outputs": [],
   "source": [
    "# analysing average housing prices for each suburb in Melbourne\n",
    "\n",
    "\n",
    "top10_costly_suburbs = housing_data[housing_data.Suburb.isin(top_housing_price_average.index)]\n",
    "\n",
    "top10_costly_suburbs.boxplot(column='Price(in$M)', by='Suburb', figsize=(10, 5))\n",
    "plt.show()"
   ]
  },
  {
   "cell_type": "code",
   "execution_count": null,
   "metadata": {},
   "outputs": [],
   "source": [
    "# analysing average housing prices for each street in each suburb in Melbourne\n",
    "\n",
    "\n",
    "# extracting street address from address\n",
    "housing_data['StreetAddress'] = housing_data.Address.str.split(' ').apply(lambda address_list: ' '.join(address_list[1:]))\n",
    "\n",
    "housing_price_average_street = housing_data.groupby(['Suburb', 'StreetAddress'])['Price(in$M)'].mean()\n",
    "\n",
    "top10_costliest_suburbs = [\n",
    "    'Kooyong',\n",
    "    'Brighton',\n",
    "    'Canterbury',\n",
    "    'Malvern',\n",
    "    'Kew',\n",
    "    'Middle Park',\n",
    "    'Balwyn',\n",
    "    'Albert Park'\n",
    "]\n",
    "\n",
    "group = housing_price_average_street.groupby('Suburb')\n",
    "for suburb in top10_costliest_suburbs:\n",
    "    g = group.get_group(suburb)\n",
    "    top5 = g.sort_values(ascending=False).iloc[0:5]\n",
    "    fig, ax = plt.subplots(figsize=(5, 4))\n",
    "    ax.bar(top5.index.get_level_values(1), top5, label=suburb)\n",
    "    ax.tick_params('x', rotation=90)\n",
    "    ax.set_xlabel('Streets in ' + suburb)\n",
    "    ax.set_ylabel('Price in Million')\n",
    "    plt.show()\n",
    "\n",
    "#for suburb, group in housing_price_average_street.groupby('Suburb'):\n",
    "#    top5 = group.sort_values(ascending=False).iloc[0:5]\n",
    "#    fig, ax = plt.subplots(figsize=(5, 4))\n",
    "#    ax.bar(top5.index.get_level_values(1), top5, label=suburb)\n",
    "#    ax.tick_params('x', rotation=90)\n",
    "#    ax.set_xlabel('Streets in ' + suburb)\n",
    "#    ax.set_ylabel('Price in Million')\n",
    "#    plt.show()"
   ]
  },
  {
   "cell_type": "code",
   "execution_count": null,
   "metadata": {},
   "outputs": [],
   "source": [
    "# encode physical locations to its corresponding geolocations !!Not Working right now!!\n",
    "\n",
    "\n",
    "#def geocoder(row):\n",
    "#    locator = Nominatim(user_agent='myGeocoder')\n",
    "#    location = locator.geocode(row.name[1] + ', ' + row.name[0] + \", Australia\")\n",
    "#    return (location.latitude, location.longitude)\n",
    "#  !!Not Working right now!!\n",
    "\n",
    "\n",
    "#housing_price_average_street = housing_price_average_street.to_frame() \n",
    "# filtering streets based on client budget\n",
    "#recommended_streets = housing_price_average_street[housing_price_average_street['Price(in$M)'] <= BUDGET]\n",
    "\n",
    "#recommended_streets['Latitude'], recommended_streets['Longitude'] = recommended_streets.apply(geocoder, axis=1)\n",
    "\n",
    "#recommended_streets.head()"
   ]
  },
  {
   "cell_type": "code",
   "execution_count": null,
   "metadata": {},
   "outputs": [],
   "source": [
    "# adding latitudes and longitudes for each of these streets\n",
    "\n",
    "\n",
    "print('Client budget: AU$ {}M'.format(BUDGET))\n",
    "grouping = {'Price(in$M)': 'mean', 'Lattitude': 'first', 'Longitude': 'first'}\n",
    "recommended_streets = housing_data.groupby(['Suburb', 'StreetAddress']).agg(grouping)\n",
    "recommended_streets = recommended_streets[recommended_streets['Price(in$M)'] <= BUDGET]\n",
    "recommended_streets.head()"
   ]
  },
  {
   "cell_type": "code",
   "execution_count": null,
   "metadata": {},
   "outputs": [],
   "source": [
    "print('{} streets were selected based on client budget.'.format(recommended_streets.shape[0]))"
   ]
  },
  {
   "cell_type": "code",
   "execution_count": null,
   "metadata": {},
   "outputs": [],
   "source": [
    "# plotting recommended locations on the map of Melbourne with current housing market prices\n",
    "\n",
    "\n",
    "# Melbourne coordinates\n",
    "latitude = -37.814\n",
    "longitude = 144.96332\n",
    "# create map of Melbourne using latitude and longitude values\n",
    "map_melbourne = folium.Map(location=[latitude, longitude], zoom_start=10)\n",
    "\n",
    "# add markers to map\n",
    "for lat, lng, address in zip(recommended_streets['Lattitude'], recommended_streets['Longitude'], recommended_streets.index):\n",
    "    address = address[1] + \", \" + address[0]\n",
    "    label = folium.Popup(address, parse_html=True)\n",
    "    folium.CircleMarker(\n",
    "        [lat, lng],\n",
    "        radius=5,\n",
    "        popup=label,\n",
    "        color='blue',\n",
    "        fill=True,\n",
    "        fill_color='#3186cc',\n",
    "        fill_opacity=0.7,\n",
    "        parse_html=False).add_to(map_melbourne)  \n",
    "    \n",
    "map_melbourne"
   ]
  },
  {
   "cell_type": "code",
   "execution_count": null,
   "metadata": {},
   "outputs": [],
   "source": [
    "# define Foursquare credentials and API version\n",
    "\n",
    "\n",
    "CLIENT_ID = 'R5MHPNIHCONOACDO4Q1WWWODRIBTX54TWD05FI0EZL4P4PA3' # your Foursquare ID\n",
    "CLIENT_SECRET = 'EKHCYAIU4OBDZAWGZITQHPIJ1DTSWCCIKAEZT1NNICQSQSPW' # your Foursquare Secret\n",
    "VERSION = '20180605' # Foursquare API version\n",
    "\n",
    "print('Your credentails:')\n",
    "print('CLIENT_ID: ' + CLIENT_ID)\n",
    "print('CLIENT_SECRET:' + CLIENT_SECRET)"
   ]
  },
  {
   "cell_type": "code",
   "execution_count": null,
   "metadata": {},
   "outputs": [],
   "source": [
    "# obtaining nearby venues to each street selected based on client budget\n",
    "# this function won't work in Kaggle as accessing web resources are not relaible in Kaggle notebooks. Hence, a new dataset has\n",
    "# been upladed by me using this same function\n",
    "\n",
    "\n",
    "def getNearbyVenues(street_names, suburbs, latitudes, longitudes, radius=500):\n",
    "    LIMIT = 100\n",
    "    venues_list=[]\n",
    "    \n",
    "    print('Street Name, Suburb:')\n",
    "    for street_name, suburb, lat, lng in zip(street_names, suburbs, latitudes, longitudes):\n",
    "        print(street_name + ', ' + suburb)\n",
    "            \n",
    "        # create the API request URL\n",
    "        url = 'https://api.foursquare.com/v2/venues/explore?&client_id={}&client_secret={}&v={}&ll={},{}&radius={}&limit={}'.format(\n",
    "            CLIENT_ID, \n",
    "            CLIENT_SECRET, \n",
    "            VERSION, \n",
    "            lat, \n",
    "            lng, \n",
    "            radius, \n",
    "            LIMIT)\n",
    "            \n",
    "        # make the GET request\n",
    "        results = requests.get(url).json()[\"response\"]['groups'][0]['items']\n",
    "        \n",
    "        # return only relevant information for each nearby venue\n",
    "        venues_list.append([(\n",
    "            street_name,\n",
    "            suburb,\n",
    "            lat, \n",
    "            lng, \n",
    "            v['venue']['name'], \n",
    "            v['venue']['location']['lat'], \n",
    "            v['venue']['location']['lng'],  \n",
    "            v['venue']['categories'][0]['name']) for v in results])\n",
    "\n",
    "    nearby_venues = pd.DataFrame([item for venue_list in venues_list for item in venue_list])\n",
    "    nearby_venues.columns = ['Street', \n",
    "                             'Suburb', \n",
    "                           'Latitude', \n",
    "                          'Longitude', \n",
    "                              'Venue', \n",
    "                     'Venue Latitude', \n",
    "                    'Venue Longitude', \n",
    "                     'Venue Category']\n",
    "    \n",
    "    return (nearby_venues)"
   ]
  },
  {
   "cell_type": "code",
   "execution_count": null,
   "metadata": {},
   "outputs": [],
   "source": [
    "# obtaining nearby venues to each street selected based on client budget\n",
    "\n",
    "\n",
    "# melbourne_venues = getNearbyVenues(street_names=recommended_streets.index.get_level_values(1),\n",
    "#                                   suburbs=recommended_streets.index.get_level_values(0),\n",
    "#                                   latitudes=recommended_streets['Lattitude'],\n",
    "#                                   longitudes=recommended_streets['Longitude']\n",
    "#                                  )\n",
    "\n",
    "melbourne_venues = pd.read_csv('/kaggle/input/melbourne-venues/Melbourne_venues.csv')\n",
    "print(melbourne_venues.shape)\n",
    "melbourne_venues.head()"
   ]
  },
  {
   "cell_type": "code",
   "execution_count": null,
   "metadata": {},
   "outputs": [],
   "source": [
    "# determining unique venues (categories) for each street in a suburb\n",
    "\n",
    "\n",
    "for gname, group in melbourne_venues.groupby(['Suburb', 'Street']):\n",
    "    print(gname[1] + ', ' + gname[0])\n",
    "    print(group['Venue Category'].unique())\n",
    "    print()"
   ]
  },
  {
   "cell_type": "code",
   "execution_count": null,
   "metadata": {},
   "outputs": [],
   "source": [
    "# determining unique venues (categories) overall in Melbourne\n",
    "\n",
    "\n",
    "melbourne_venues['Venue Category'].unique()"
   ]
  },
  {
   "cell_type": "code",
   "execution_count": null,
   "metadata": {},
   "outputs": [],
   "source": [
    "# basic neighborhood amenities that drives up one's choice of residence\n",
    "\n",
    "\n",
    "basic_amenities = [\n",
    "    'Station',\n",
    "    'Stop',\n",
    "    'Restaurant',\n",
    "    'Café',\n",
    "    'Pharmacy',\n",
    "    'Market',\n",
    "    'Supermarket',\n",
    "    'Shop',\n",
    "    'University',\n",
    "    'School',\n",
    "    'Gym',\n",
    "    'Theater',\n",
    "    'Laundromat',\n",
    "    'Lake',\n",
    "    'Park',\n",
    "    'Playground', \n",
    "]"
   ]
  },
  {
   "cell_type": "code",
   "execution_count": null,
   "metadata": {},
   "outputs": [],
   "source": [
    "# analysing each street (in a suburb) against the basic amenities in its proximity\n",
    "\n",
    "\n",
    "# filtering venues based on wheter they fall into basic amenity or not\n",
    "def is_amenity(row):\n",
    "    for amenity in basic_amenities:\n",
    "        if amenity in row:\n",
    "            return True\n",
    "        \n",
    "    return False\n",
    "\n",
    "\n",
    "# filtering venues based on wheter they fall into basic amenity or not\n",
    "amenities = melbourne_venues[melbourne_venues['Venue Category'].apply(is_amenity)]\n",
    "\n",
    "# Analyze each street\n",
    "# one hot encoding\n",
    "amenities = pd.get_dummies(amenities[['Venue Category']], prefix=\"\", prefix_sep=\"\")\n",
    "\n",
    "# add Street and Suburb columns back to dataframe\n",
    "amenities['Street'], amenities['Suburb'] = melbourne_venues['Street'], melbourne_venues['Suburb']\n",
    "\n",
    "# adjust columns\n",
    "fixed_columns = [amenities.columns[-2]] + [amenities.columns[-1]] + list(amenities.columns[:-2])\n",
    "amenities = amenities[fixed_columns]\n",
    "\n",
    "amenities.head()"
   ]
  },
  {
   "cell_type": "code",
   "execution_count": null,
   "metadata": {},
   "outputs": [],
   "source": [
    "# Next, let's group rows by street and suburb, and by taking the sum of the frequency of occurrence of each category\n",
    "\n",
    "amenities_frequency = amenities.groupby(['Suburb', 'Street']).sum()\n",
    "amenities_frequency.head()"
   ]
  },
  {
   "cell_type": "code",
   "execution_count": null,
   "metadata": {},
   "outputs": [],
   "source": [
    "# recommend top 15 streets with the most total number of nearby amenities\n",
    "\n",
    "\n",
    "recommended_streets = amenities.groupby(['Suburb', 'Street'])[['Afghan Restaurant']].count().sort_values('Afghan Restaurant', ascending=False)\n",
    "recommended_streets.columns = ['Amenities Count']\n",
    "recommended_streets = recommended_streets[0:15]\n",
    "\n",
    "# adding location coordinates data\n",
    "left = recommended_streets.reset_index()\n",
    "right = melbourne_venues[['Suburb', 'Street', 'Latitude', 'Longitude']].drop_duplicates(subset=['Suburb', 'Street'])\n",
    "recommended_streets = pd.merge(left=left, right=right, left_on=['Suburb', 'Street'], right_on=['Suburb', 'Street'])\n",
    "\n",
    "recommended_streets.head(15)"
   ]
  },
  {
   "cell_type": "code",
   "execution_count": null,
   "metadata": {},
   "outputs": [],
   "source": [
    "# plotting recommended locations on the map of Melbourne\n",
    "\n",
    "\n",
    "# Melbourne coordinates\n",
    "latitude = -37.814\n",
    "longitude = 144.96332\n",
    "# create map of Melbourne using latitude and longitude values\n",
    "map_melbourne = folium.Map(location=[latitude, longitude], zoom_start=10)\n",
    "\n",
    "# add markers to map\n",
    "for lat, lng, street, suburb in zip(recommended_streets['Latitude'], recommended_streets['Longitude'], recommended_streets['Street'], recommended_streets['Suburb']):\n",
    "    address = street + \", \" + suburb\n",
    "    label = folium.Popup(address, parse_html=True)\n",
    "    folium.CircleMarker(\n",
    "        [lat, lng],\n",
    "        radius=5,\n",
    "        popup=label,\n",
    "        color='blue',\n",
    "        fill=True,\n",
    "        fill_color='#3186cc',\n",
    "        fill_opacity=0.7,\n",
    "        parse_html=False).add_to(map_melbourne)  \n",
    "    \n",
    "map_melbourne"
   ]
  },
  {
   "cell_type": "markdown",
   "metadata": {},
   "source": [
    "## Results and Discussion <a name=\"results\"></a>"
   ]
  },
  {
   "cell_type": "markdown",
   "metadata": {},
   "source": [
    "\n",
    "Based on the findings in the results section, the user can take a conscious decision about choosing a street i.e. location based upon his/her specific requirements.\n",
    "\n",
    "The results section enlists 26 locations where a prospective client can buy a property based on his needs and choices. Such choices would be affected by the venues and facilities which are close to the property which match against his familial needs.\n",
    "\n",
    "Few possible use-cases are:\n",
    "   1. A prospective client with elders in the family would be inclinded to choose a location where hospitals and grocery stores are located in close proximity\n",
    "   2. A prospective client with kids in the family would be choosing a location where elementary and high schools are nearby. He would also like to choose a place with parks and other venues in the close vicinity\n",
    "   3. A bachelor would be inclined to choose a property which has pubs, bars, entertainment, etc. close to the property\n",
    "   "
   ]
  },
  {
   "cell_type": "markdown",
   "metadata": {},
   "source": [
    "## Conclusion <a name=\"conclusion\"></a>"
   ]
  },
  {
   "cell_type": "markdown",
   "metadata": {},
   "source": [
    "\n",
    "The decision of a buyer is influenced by the familial needs, personal biases and so on. So, based on the findings summarized in the results and discussion sections, following conclusions can be made:\n",
    "\n",
    "   1. While making recommendations to a prospective client, it is imperative to know  requirements besides the budget, which dictates his/her decision of buying the property largely. This would help to catch attention\n",
    "   2. Knowledge about the most recent market prices can be very helpful for the client and can help him take an informed decision\n",
    "   \n"
   ]
  },
  {
   "cell_type": "code",
   "execution_count": null,
   "metadata": {},
   "outputs": [],
   "source": []
  }
 ],
 "metadata": {
  "kernelspec": {
   "display_name": "Python 3",
   "language": "python",
   "name": "python3"
  },
  "language_info": {
   "codemirror_mode": {
    "name": "ipython",
    "version": 3
   },
   "file_extension": ".py",
   "mimetype": "text/x-python",
   "name": "python",
   "nbconvert_exporter": "python",
   "pygments_lexer": "ipython3",
   "version": "3.7.6"
  }
 },
 "nbformat": 4,
 "nbformat_minor": 4
}
